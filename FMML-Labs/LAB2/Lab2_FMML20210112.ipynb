{
  "nbformat": 4,
  "nbformat_minor": 0,
  "metadata": {
    "colab": {
      "name": "Lab2_FMML20210112.ipynb.",
      "provenance": [],
      "collapsed_sections": [],
      "include_colab_link": true
    },
    "kernelspec": {
      "display_name": "Python 3",
      "name": "python3"
    },
    "language_info": {
      "name": "python"
    }
  },
  "cells": [
    {
      "cell_type": "markdown",
      "metadata": {
        "id": "view-in-github",
        "colab_type": "text"
      },
      "source": [
        "<a href=\"https://colab.research.google.com/github/divyanx/ML/blob/main/FMML-Labs/LAB2/Lab2_FMML20210112.ipynb\" target=\"_parent\"><img src=\"https://colab.research.google.com/assets/colab-badge.svg\" alt=\"Open In Colab\"/></a>"
      ]
    },
    {
      "cell_type": "markdown",
      "metadata": {
        "id": "3Eu9VZbF01eq"
      },
      "source": [
        "# Machine learning terms and metrics\n",
        "\n",
        "FMML Module 1, Lab 2<br>\n",
        " Module Coordinator: Thrupthi Ann John thrupthi.ann@research.iiit.ac.in <br>\n",
        " Release date: 11 October 2021 Monday <br>\n",
        "\n",
        " In this lab, we will show a part of the ML pipeline by extracting features, training and testing"
      ]
    },
    {
      "cell_type": "code",
      "metadata": {
        "id": "8qBvyEem0vLi"
      },
      "source": [
        "import matplotlib.pyplot as plt\n",
        "import numpy as np\n",
        "from sklearn import datasets\n",
        "# set randomseed\n",
        "rng = np.random.default_rng(seed=42)"
      ],
      "execution_count": 1,
      "outputs": []
    },
    {
      "cell_type": "markdown",
      "metadata": {
        "id": "u3t59g5s1HfC"
      },
      "source": [
        "In this lab, we will use the California Housing dataset. There are 20640 samples, each with 8 attributes like income of the block, age of the houses per district etc. The task is to predict the cost of the houses per district. \n",
        "\n",
        "Let us download and examine the dataset. "
      ]
    },
    {
      "cell_type": "code",
      "metadata": {
        "colab": {
          "base_uri": "https://localhost:8080/"
        },
        "id": "8LpqjN991GGJ",
        "outputId": "c940d328-f7c7-4879-88ee-be2d70821bc3"
      },
      "source": [
        " dataset =  datasets.fetch_california_housing()\n",
        " print(dataset.DESCR)  # uncomment this if you want to know more about this dataset\n",
        " print(dataset.keys())  # if you want to know what else is there in this dataset\n",
        " dataset.target = dataset.target.astype(np.int) # so that we can classify\n",
        " print(dataset.data.shape)\n",
        " print(dataset.target.shape)"
      ],
      "execution_count": 2,
      "outputs": [
        {
          "output_type": "stream",
          "name": "stdout",
          "text": [
            ".. _california_housing_dataset:\n",
            "\n",
            "California Housing dataset\n",
            "--------------------------\n",
            "\n",
            "**Data Set Characteristics:**\n",
            "\n",
            "    :Number of Instances: 20640\n",
            "\n",
            "    :Number of Attributes: 8 numeric, predictive attributes and the target\n",
            "\n",
            "    :Attribute Information:\n",
            "        - MedInc        median income in block\n",
            "        - HouseAge      median house age in block\n",
            "        - AveRooms      average number of rooms\n",
            "        - AveBedrms     average number of bedrooms\n",
            "        - Population    block population\n",
            "        - AveOccup      average house occupancy\n",
            "        - Latitude      house block latitude\n",
            "        - Longitude     house block longitude\n",
            "\n",
            "    :Missing Attribute Values: None\n",
            "\n",
            "This dataset was obtained from the StatLib repository.\n",
            "http://lib.stat.cmu.edu/datasets/\n",
            "\n",
            "The target variable is the median house value for California districts.\n",
            "\n",
            "This dataset was derived from the 1990 U.S. census, using one row per census\n",
            "block group. A block group is the smallest geographical unit for which the U.S.\n",
            "Census Bureau publishes sample data (a block group typically has a population\n",
            "of 600 to 3,000 people).\n",
            "\n",
            "It can be downloaded/loaded using the\n",
            ":func:`sklearn.datasets.fetch_california_housing` function.\n",
            "\n",
            ".. topic:: References\n",
            "\n",
            "    - Pace, R. Kelley and Ronald Barry, Sparse Spatial Autoregressions,\n",
            "      Statistics and Probability Letters, 33 (1997) 291-297\n",
            "\n",
            "dict_keys(['data', 'target', 'frame', 'target_names', 'feature_names', 'DESCR'])\n",
            "(20640, 8)\n",
            "(20640,)\n"
          ]
        },
        {
          "output_type": "stream",
          "name": "stderr",
          "text": [
            "/Users/divyansh/opt/anaconda3/envs/FMML/lib/python3.7/site-packages/ipykernel_launcher.py:4: DeprecationWarning: `np.int` is a deprecated alias for the builtin `int`. To silence this warning, use `int` by itself. Doing this will not modify any behavior and is safe. When replacing `np.int`, you may wish to use e.g. `np.int64` or `np.int32` to specify the precision. If you wish to review your current use, check the release note link for additional information.\n",
            "Deprecated in NumPy 1.20; for more details and guidance: https://numpy.org/devdocs/release/1.20.0-notes.html#deprecations\n",
            "  after removing the cwd from sys.path.\n"
          ]
        }
      ]
    },
    {
      "cell_type": "markdown",
      "metadata": {
        "id": "iNx4174W5xRg"
      },
      "source": [
        "Here is a function for calculating the 1-nearest neighbours"
      ]
    },
    {
      "cell_type": "code",
      "metadata": {
        "id": "07zpydQj1hIQ"
      },
      "source": [
        "def NN1(traindata, trainlabel, query):\n",
        "  \"\"\"\n",
        "  Finds nearest neighbor for the query among all sampledata\n",
        "\n",
        "  Args:\n",
        "    traindata : collection of training data features (2D array)\n",
        "    trainlabel : coresponding label for traindata\n",
        "    query : a single feature vector\n",
        "\n",
        "  Returns:\n",
        "    label of data among train data which is nearest to the query\n",
        "  \"\"\"\n",
        "  diff  = traindata - query  # find the difference between features. Numpy automatically takes care of the size here \n",
        "  sq = diff*diff # square the differences\n",
        "  dist = sq.sum(1) # add up the squares\n",
        "  label = trainlabel[np.argmin(dist)] # our predicted label is the label of the training data which has the least distance from the query\n",
        "  return label\n",
        "\n",
        "def NN(traindata, trainlabel, testdata):\n",
        "  \"\"\"\n",
        "  Finds nearest neighbor for all data in test data.\n",
        "\n",
        "  Also see NN1\n",
        "\n",
        "  Args:\n",
        "    traindata : collection of training data features (mostly 2D array).\n",
        "    trainlabel : coresponding label for traindata.\n",
        "    testdata : a collection of test data (mostly 2D array).\n",
        "\n",
        "  Returns:\n",
        "    array of label of data among train data which is nearest to the each test \n",
        "    data.\n",
        "  \"\"\"\n",
        "  # we will run nearest neighbour for each sample in the test data \n",
        "  # and collect the predicted classes in an array using list comprehension\n",
        "  predlabel = np.array([NN1(traindata, trainlabel, i) for i in testdata])\n",
        "  return predlabel\n"
      ],
      "execution_count": 3,
      "outputs": []
    },
    {
      "cell_type": "markdown",
      "metadata": {
        "id": "03JktkfIGaje"
      },
      "source": [
        "We will also define a 'random classifier', which randomly allots labels to each sample"
      ]
    },
    {
      "cell_type": "code",
      "metadata": {
        "id": "fogWAtjyGhAH"
      },
      "source": [
        "def RandomClassifier(traindata, trainlabel, testdata):\n",
        "  \"\"\"\n",
        "  Assigns random labels to the test data.\n",
        "\n",
        "  Args:\n",
        "    traindata : collection of training data features (mostly 2D array).\n",
        "    trainlabel : coresponding label for traindata.\n",
        "    testdata : a collection of test data (mostly 2D array).\n",
        "\n",
        "  Returns:\n",
        "    array of labels assigned to testdata randomly from trainlabel\n",
        "  \"\"\"\n",
        "  # in reality, we don't need these arguments\n",
        "\n",
        "  classes = np.unique(trainlabel)\n",
        "  rints = rng.integers(low=0, high=len(classes), size=len(testdata))\n",
        "  predlabel = classes[rints]\n",
        "  return predlabel"
      ],
      "execution_count": 4,
      "outputs": []
    },
    {
      "cell_type": "markdown",
      "metadata": {
        "id": "1Hjf1KHs7fU5"
      },
      "source": [
        "Let us define a metric 'Accuracy' to see how good our learning algorithm is. Accuracy is the ratio of the number of correctly classified samples to the total number of samples. The higher the accuracy, the better the algorithm. "
      ]
    },
    {
      "cell_type": "code",
      "metadata": {
        "id": "ouuCqWU07bz-"
      },
      "source": [
        "def Accuracy(gtlabel, predlabel):\n",
        "  \"\"\"\n",
        "  Finds the ratio of correctly assigned labels to total labels\n",
        "\n",
        "  Args:\n",
        "    gtlabel : correct ground truth labels array\n",
        "    predlabel : predicted labels array\n",
        "\n",
        "  Returns:\n",
        "    fraction of correctly assigned labels to total number of labels\n",
        "  \"\"\"\n",
        "  assert len(gtlabel)==len(predlabel), \"Length of the groundtruth labels and predicted labels should be the same\"\n",
        "  correct = (gtlabel==predlabel).sum() # count the number of times the groundtruth label is equal to the predicted label.\n",
        "  return correct/len(gtlabel)"
      ],
      "execution_count": 5,
      "outputs": []
    },
    {
      "cell_type": "markdown",
      "metadata": {
        "id": "4vJFwBFa9Klw"
      },
      "source": [
        "Let us make a function to split the dataset with the desired probability."
      ]
    },
    {
      "cell_type": "code",
      "metadata": {
        "id": "Ko0VzpSM2Tdi"
      },
      "source": [
        "def split(data, label, percent):\n",
        "  \"\"\"\n",
        "  Splits data into two parts randomly in ratio given.\n",
        "\n",
        "  Args:\n",
        "    data : data collection to be split\n",
        "    label : coresponding labels of data\n",
        "    percent : ratio of size of two partisions, between 0 and 1\n",
        "              ratio is of first/second\n",
        "\n",
        "    Returns:\n",
        "      first data partision, labels coresponding to first data partision,\n",
        "      second data partision and labels coresponding to second data partision.\n",
        "  \"\"\"\n",
        "  # generate a random number for each sample\n",
        "  rnd = rng.random(len(label))\n",
        "  split1 = rnd<percent\n",
        "  split2 = rnd>=percent\n",
        "  split1data = data[split1,:]\n",
        "  split1label = label[split1]\n",
        "  split2data = data[split2,:]\n",
        "  split2label = label[split2]\n",
        "  return split1data, split1label, split2data, split2label"
      ],
      "execution_count": 6,
      "outputs": []
    },
    {
      "cell_type": "markdown",
      "metadata": {
        "id": "AcK3LEAJ_LGC"
      },
      "source": [
        "We will reserve 20% of our dataset as the test set. We will not change this portion throughout our experiments"
      ]
    },
    {
      "cell_type": "code",
      "metadata": {
        "colab": {
          "base_uri": "https://localhost:8080/"
        },
        "id": "bBZkHBLJ1iU-",
        "outputId": "f4b1ad6b-9180-4334-869a-7f454a4bb8d3"
      },
      "source": [
        "testdata, testlabel, alltraindata, alltrainlabel = split(dataset.data, dataset.target, 20/100)\n",
        "print('Number of test samples = ', len(testlabel))\n",
        "print('Number of other samples = ', len(alltrainlabel))\n",
        "print('Percent of test data = ', len(testlabel)*100/len(dataset.target),'%')"
      ],
      "execution_count": 7,
      "outputs": [
        {
          "output_type": "stream",
          "name": "stdout",
          "text": [
            "Number of test samples =  4144\n",
            "Number of other samples =  16496\n",
            "Percent of test data =  20.07751937984496 %\n"
          ]
        }
      ]
    },
    {
      "cell_type": "markdown",
      "metadata": {
        "id": "a6Ss0Z6IAGNV"
      },
      "source": [
        "## Experiments with splits\n",
        "\n",
        "Let us reserve some of our train data as a validation set"
      ]
    },
    {
      "cell_type": "code",
      "metadata": {
        "id": "WFew2iry_7W7"
      },
      "source": [
        "traindata, trainlabel, valdata, vallabel = split(alltraindata, alltrainlabel, 75/100)"
      ],
      "execution_count": 8,
      "outputs": []
    },
    {
      "cell_type": "markdown",
      "metadata": {
        "id": "60hiu4clFN1i"
      },
      "source": [
        "What is the accuracy of our classifiers on the train dataset?"
      ]
    },
    {
      "cell_type": "markdown",
      "metadata": {
        "id": "nqSrZNHy5RMF"
      },
      "source": [
        ""
      ]
    },
    {
      "cell_type": "code",
      "metadata": {
        "colab": {
          "base_uri": "https://localhost:8080/"
        },
        "id": "DBlZDTHUFTZx",
        "outputId": "f1c35435-9030-4c2e-b57d-337807da1445"
      },
      "source": [
        "trainpred = NN(traindata, trainlabel, traindata)\n",
        "trainAccuracy = Accuracy(trainlabel, trainpred)\n",
        "print(\"Train accuracy using nearest neighbour is \", trainAccuracy)\n",
        "\n",
        "trainpred = RandomClassifier(traindata, trainlabel, traindata)\n",
        "trainAccuracy = Accuracy(trainlabel, trainpred)\n",
        "print(\"Train accuracy using random classifier is \", trainAccuracy)"
      ],
      "execution_count": 9,
      "outputs": [
        {
          "output_type": "stream",
          "name": "stdout",
          "text": [
            "Train accuracy using nearest neighbour is  1.0\n",
            "Train accuracy using random classifier is  0.164375808538163\n"
          ]
        }
      ]
    },
    {
      "cell_type": "markdown",
      "metadata": {
        "id": "7h08-9gJDtSy"
      },
      "source": [
        "For nearest neighbour, the train accuracy is always 1. The accuracy of the random classifier is close to 1/(number of classes) which is 0.1666 in our case.\n",
        "\n",
        "Let us predict the labels for our validation set and get the accuracy"
      ]
    },
    {
      "cell_type": "code",
      "metadata": {
        "colab": {
          "base_uri": "https://localhost:8080/"
        },
        "id": "4h7bXoW_2H3v",
        "outputId": "4fe2157b-4276-4d79-d192-d183cb322e0b"
      },
      "source": [
        "valpred = NN(traindata, trainlabel, valdata)\n",
        "valAccuracy = Accuracy(vallabel, valpred)\n",
        "print(\"Validation accuracy using nearest neighbour is \", valAccuracy)\n",
        "\n",
        "valpred = RandomClassifier(traindata, trainlabel, valdata)\n",
        "valAccuracy = Accuracy(vallabel, valpred)\n",
        "print(\"Validation accuracy using random classifier is \", valAccuracy)"
      ],
      "execution_count": 10,
      "outputs": [
        {
          "output_type": "stream",
          "name": "stdout",
          "text": [
            "Validation accuracy using nearest neighbour is  0.34108527131782945\n",
            "Validation accuracy using random classifier is  0.1688468992248062\n"
          ]
        }
      ]
    },
    {
      "cell_type": "markdown",
      "metadata": {
        "id": "py9bLguFEjfg"
      },
      "source": [
        "Validation accuracy of nearest neighbour is considerably less than its train accuracy while the validation accuracy of random classifier is the same. However, the validation accuracy of nearest neighbour is twice that of the random classifier. \n",
        "\n",
        "Now let us try another random split and check the validation accuracy"
      ]
    },
    {
      "cell_type": "code",
      "metadata": {
        "colab": {
          "base_uri": "https://localhost:8080/"
        },
        "id": "ujm3cyYzEntE",
        "outputId": "3391331b-bac0-41a7-8a05-7a6134eaafd4"
      },
      "source": [
        "traindata, trainlabel, valdata, vallabel = split(alltraindata, alltrainlabel, 75/100)\n",
        "valpred = NN(traindata, trainlabel, valdata)\n",
        "valAccuracy = Accuracy(vallabel, valpred)\n",
        "print(\"Validation accuracy of nearest neighbour is \", valAccuracy)"
      ],
      "execution_count": 11,
      "outputs": [
        {
          "output_type": "stream",
          "name": "stdout",
          "text": [
            "Validation accuracy of nearest neighbour is  0.34048257372654156\n"
          ]
        }
      ]
    },
    {
      "cell_type": "markdown",
      "metadata": {
        "id": "oSOx7U83EKie"
      },
      "source": [
        "You can run the above cell multiple times to try with different random splits. \n",
        "We notice that the accuracy is different for each run, but close together. \n",
        "\n",
        "Now let us compare it with the accuracy we get on the test dataset. "
      ]
    },
    {
      "cell_type": "code",
      "metadata": {
        "colab": {
          "base_uri": "https://localhost:8080/"
        },
        "id": "PNEZ5ToYBEDW",
        "outputId": "1880c758-803a-45f8-f292-c05baad0a152"
      },
      "source": [
        "testpred = NN(alltraindata, alltrainlabel, testdata)\n",
        "testAccuracy = Accuracy(testlabel, testpred)\n",
        "print('Test accuracy is ', testAccuracy)"
      ],
      "execution_count": 12,
      "outputs": [
        {
          "output_type": "stream",
          "name": "stdout",
          "text": [
            "Test accuracy is  0.34917953667953666\n"
          ]
        }
      ]
    },
    {
      "cell_type": "markdown",
      "metadata": {
        "id": "w3dGD531K3gH"
      },
      "source": [
        "### Try it out for yourself and answer:\n",
        "1. How is the accuracy of the validation set affected if we increase the percentage of validation set? What happens when we reduce it?\n",
        "2. How does the size of the train and validation set affect how well we can predict the accuracy on the test set using the validation set?\n",
        "3. What do you think is a good percentage to reserve for the validation set so that thest two factors are balanced? \n",
        "\n",
        "Answer for both nearest neighbour and random classifier. You can note down the values for your experiments and plot a graph using  <a href=https://matplotlib.org/stable/gallery/lines_bars_and_markers/step_demo.html#sphx-glr-gallery-lines-bars-and-markers-step-demo-py>plt.plot<href>. Check also for extreme values for splits, like 99.9% or 0.1%"
      ]
    },
    {
      "cell_type": "markdown",
      "metadata": {
        "id": "BFs24O0fxoo-"
      },
      "source": [
        "###Dependence of accuracy of validation set to the percentage of size of the set.\n",
        "We can try different percentage and then plot the dependance to have a better view of dependance."
      ]
    },
    {
      "cell_type": "code",
      "metadata": {
        "id": "iyPuFLQ0x9tS"
      },
      "source": [
        "def findAccuracies(alltraindata, alltrainlabel, percentages):\n",
        "  \"\"\"\n",
        "  Finds accuracies of validation data for different partision of all data into\n",
        "  train data and validation data\n",
        "\n",
        "  args:\n",
        "    alltraindata: all train data available \n",
        "    alltrainlabel : labels coresponding to all traindata\n",
        "    step : percentage step size from 0.1 to 100\n",
        "  \n",
        "  returns:\n",
        "    returns array of all percentage partision from 0.1 to 100 step = step\n",
        "  \"\"\"\n",
        "  accuracies = []\n",
        "  for percent in percentages:\n",
        "    #print(percent)\n",
        "    traindata, trainlabel, valdata, vallabel = split(alltraindata, alltrainlabel, percent/100)\n",
        "    valpred = NN(traindata, trainlabel, valdata)\n",
        "    valAccuracy = Accuracy(vallabel, valpred)\n",
        "    accuracies.append(valAccuracy)\n",
        "  accur = np.array(accuracies)\n",
        "  return accur"
      ],
      "execution_count": 13,
      "outputs": []
    },
    {
      "cell_type": "code",
      "metadata": {
        "id": "lPhyNzznOzNY"
      },
      "source": [
        "def getPercentageDistribution():\n",
        "  x = np.append(np.arange(0.1,5,0.1) , np.arange(6,30,3))\n",
        "  x = np.append(x, np.arange(30.,70.,10))\n",
        "  x = np.append(x, np.arange(71.,94.,3))\n",
        "  x = np.append(x, np.arange(94,99.9,0.1))\n",
        "  return x"
      ],
      "execution_count": 14,
      "outputs": []
    },
    {
      "cell_type": "code",
      "metadata": {
        "id": "6l8z86V_0EMt"
      },
      "source": [
        "def plotValid(alltraindata, alltrainlabel, percentages):\n",
        "  \"\"\"\n",
        "  plots the accuracy for various partisions varying from 0.1 % to 99.9 %\n",
        "  of all data into train data and validation data.\n",
        "  \"\"\"\n",
        "  accur = findAccuracies(alltraindata, alltrainlabel, percentages)\n",
        "  assert percentages.size == accur.size\n",
        "    \n",
        "  # Plotting the Graph\n",
        "  plt.plot(percentages, accur)\n",
        "  plt.title(\"Dependency of validation accuracy on partision percentage\")\n",
        "  plt.xlabel(\"% of data used for training\")\n",
        "  plt.ylabel(\"Accuracy\")\n",
        "  plt.show()\n"
      ],
      "execution_count": 15,
      "outputs": []
    },
    {
      "cell_type": "code",
      "metadata": {
        "colab": {
          "base_uri": "https://localhost:8080/",
          "height": 295
        },
        "id": "xP57Druk_rcx",
        "outputId": "d6650e39-b8df-4e53-ed79-3689a8b3861f"
      },
      "source": [
        "# plot the accuracy vs percentage\n",
        "plotValid(alltraindata, alltrainlabel, np.arange(0.1,99.9, 0.5))"
      ],
      "execution_count": 16,
      "outputs": [
        {
          "output_type": "display_data",
          "data": {
            "text/plain": [
              "<Figure size 432x288 with 1 Axes>"
            ],
            "image/png": "[encoded data removed]"
          },
          "metadata": {
            "needs_background": "light"
          }
        }
      ]
    },
    {
      "cell_type": "code",
      "metadata": {
        "colab": {
          "base_uri": "https://localhost:8080/",
          "height": 295
        },
        "id": "P7iPnw9Ww8d7",
        "outputId": "0c5df2e0-e197-4292-f794-0bfd057289ae"
      },
      "source": [
        "plotValid(alltraindata, alltrainlabel, getPercentageDistribution())"
      ],
      "execution_count": 17,
      "outputs": [
        {
          "output_type": "display_data",
          "data": {
            "text/plain": [
              "<Figure size 432x288 with 1 Axes>"
            ],
            "image/png": "[encoded data removed]"
          },
          "metadata": {
            "needs_background": "light"
          }
        }
      ]
    },
    {
      "cell_type": "markdown",
      "metadata": {
        "id": "zk-_21XhCmoO"
      },
      "source": [
        "So we can see that the accuracy of the validation data increases mostly as we increase the share of the training data. Though the increase is not monotonic, that might be happening due to various reasons. \n",
        "\n",
        "We can also observe that for the cases when training data is very less, and when validation data which is used for testing is very less, then there is very hight fluctuation. Having very few data for training and testing is not a good idea, therefore.\n",
        "\n",
        "**But we can conclude that more the share of train data more the accuracy**"
      ]
    },
    {
      "cell_type": "markdown",
      "metadata": {
        "id": "blV0dR-4FF-i"
      },
      "source": [
        "### Effect of the share of validation data on the accuracy of the test data using the validation set.\n",
        "\n",
        "Logically validation data should be as large as possible if we want to test accuracy based on it, however this might not always be true, suppose for a certain query and for some amount of validation data, if the validation data is very small, then lets suppose a case in which the NN in that validation data is the real label of the query so the accuracy wil be high, but if we add more data in validation data then there might be case when other data of different lables come close to our query, giving us wrong results, but this problem will arise only for lower amount of validation data, for large data the effect of more data should be towards more accuracy.\n",
        "\n",
        "Lets test our hypothesis by plotting the accuracy of test data on validation data vs percentage of data used for validation."
      ]
    },
    {
      "cell_type": "code",
      "metadata": {
        "id": "bgdBMga4FH76"
      },
      "source": [
        "def plotTest(alltraindata, alltrainlabel, testdata, testlabel):\n",
        "  \"\"\"\n",
        "  Return accuracies for test data for different percentages of split size of\n",
        "  traindata\n",
        "  \"\"\"\n",
        "  percentages = getPercentageDistribution()\n",
        "  accuracies = []\n",
        "  print(alltraindata.size, alltraindata.size)\n",
        "  for percent in percentages:\n",
        "    #print(percent)\n",
        "    _, _, valdata, vallabel = split(alltraindata, alltrainlabel, percent/100)\n",
        "    #print(valdata.size, vallabel.size, testdata.size)\n",
        "    testpred = NN(valdata, vallabel, testdata)\n",
        "    testAccuracy = Accuracy(testlabel, testpred)\n",
        "    accuracies.append(testAccuracy)\n",
        "\n",
        "  accur = np.array(accuracies)\n",
        "  percentagesValid = np.array([100.]*percentages.size)\n",
        "  percentagesValid -= percentages\n",
        "  plt.plot(percentagesValid, accur)\n",
        "  plt.title(\"Dependency of test accuracy on partision percentage\")\n",
        "  plt.xlabel(\"fraction of data used for validation\")\n",
        "  plt.ylabel(\"Accuracy\")\n",
        "  plt.show()\n"
      ],
      "execution_count": 18,
      "outputs": []
    },
    {
      "cell_type": "code",
      "metadata": {
        "colab": {
          "base_uri": "https://localhost:8080/",
          "height": 312
        },
        "id": "vCLlNbMQG0iY",
        "outputId": "45975028-708e-44c2-a2d6-7a94516ade66"
      },
      "source": [
        "plotTest(alltraindata, alltrainlabel, testdata, testlabel)"
      ],
      "execution_count": 19,
      "outputs": [
        {
          "output_type": "stream",
          "name": "stdout",
          "text": [
            "131968 131968\n"
          ]
        },
        {
          "output_type": "display_data",
          "data": {
            "text/plain": [
              "<Figure size 432x288 with 1 Axes>"
            ],
            "image/png": "[encoded data removed]"
          },
          "metadata": {
            "needs_background": "light"
          }
        }
      ]
    },
    {
      "cell_type": "markdown",
      "metadata": {
        "id": "hIIqOs_ixp8t"
      },
      "source": [
        "Here also, like the previous case, we can see that the overall nature is inceremental, except when the data for trainng is very less, where we can see fluctuations. This again is the case when data is too less for training, which as told is a bad idea."
      ]
    },
    {
      "cell_type": "markdown",
      "metadata": {
        "id": "PnYvkAZLQY7h"
      },
      "source": [
        "## Multiple Splits\n",
        "\n",
        "One way to get more accurate estimates for the test accuracy is by using <b>crossvalidation</b>. Here, we will try a simple version, where we do multiple train/val splits and take the average of validation accuracies as the test accuracy estimation. Here is a function for doing this. Note that this function will take a long time to execute. "
      ]
    },
    {
      "cell_type": "code",
      "metadata": {
        "id": "E4nGCUQXBTzo"
      },
      "source": [
        "# you can use this function for random classifier also\n",
        "def AverageAccuracy(alldata, alllabel, splitpercent, iterations, classifier=NN):\n",
        "  accuracy = 0\n",
        "  for ii in range(iterations):\n",
        "    traindata, trainlabel, valdata, vallabel = split(alldata, alllabel, splitpercent)\n",
        "    valpred = classifier(traindata, trainlabel, valdata)\n",
        "    accuracy += Accuracy(vallabel, valpred)\n",
        "  return accuracy/iterations # average of all accuracies"
      ],
      "execution_count": 20,
      "outputs": []
    },
    {
      "cell_type": "code",
      "metadata": {
        "id": "H3qtNar7Bbik",
        "colab": {
          "base_uri": "https://localhost:8080/"
        },
        "outputId": "1d76d1e1-f02c-42b1-8948-b45f3a691cf5"
      },
      "source": [
        "print('Average validation accuracy is ', AverageAccuracy(alltraindata, alltrainlabel, 75/100, 10, classifier=NN))\n",
        "testpred = NN(alltraindata, alltrainlabel, testdata)\n",
        "print('test accuracy is ',Accuracy(testlabel, testpred) )"
      ],
      "execution_count": 21,
      "outputs": [
        {
          "output_type": "stream",
          "name": "stdout",
          "text": [
            "Average validation accuracy is  0.3388786242686196\n",
            "test accuracy is  0.34917953667953666\n"
          ]
        }
      ]
    },
    {
      "cell_type": "markdown",
      "metadata": {
        "id": "33GIn4x5VH-d"
      },
      "source": [
        "This is a very simple way of doing cross-validation. There are many well-known algorithms for cross-validation, like k-fold cross-validation, leave-one-out etc. This will be covered in detail in a later module. For more information about cross-validation, check <a href=https://en.wikipedia.org/wiki/Cross-validation_(statistics)>Cross-validatioin (Wikipedia)</a>\n",
        "\n",
        "### Questions\n",
        "1. Does averaging the validation accuracy across multiple splits give more consistent results?\n",
        "2. Does it give more accurate estimate of test accuracy?\n",
        "3. What is the effect of the number of iterations on the estimate? Do we get a better estimate with higher iterations?\n",
        "4. Consider the results you got for the previous questions. Can we deal with a very small train dataset or validation dataset by increasing the iterations?\n"
      ]
    },
    {
      "cell_type": "markdown",
      "metadata": {
        "id": "lhLKHkRxeOpi"
      },
      "source": [
        "**1. \n",
        "Averaging across multiple splits should give more consistent accuracies, specially when the amount of data is less, in that case randomisation may not be enough to get a consistent result, so averaging might help.**\n",
        "\n",
        "**2. \n",
        "In, this particular case, there is not much effect as the split is good and also the data size is large enough, but if we had less amount of data, then it might turn out to be useful.**"
      ]
    },
    {
      "cell_type": "markdown",
      "metadata": {
        "id": "07Us4-tQeerp"
      },
      "source": [
        "### Effect of number of iterations."
      ]
    },
    {
      "cell_type": "code",
      "metadata": {
        "id": "1WileBUqC404"
      },
      "source": [
        "iteration = np.arange(1,30,5)\n",
        "accuracies1 = np.array([AverageAccuracy(alltraindata, alltrainlabel, 75/100, it, classifier=NN) for it in iteration])\n",
        "accuracies2 = np.array([AverageAccuracy(alltraindata, alltrainlabel, 25/100, it, classifier=NN) for it in iteration])"
      ],
      "execution_count": 26,
      "outputs": []
    },
    {
      "cell_type": "code",
      "metadata": {
        "colab": {
          "base_uri": "https://localhost:8080/",
          "height": 295
        },
        "id": "Hs2Tpa8Fgokw",
        "outputId": "ac58d6f4-07f8-4454-ce27-a02653406878"
      },
      "source": [
        "plt.plot(iteration, accuracies1)\n",
        "testpred = NN(alltraindata, alltrainlabel, testdata)\n",
        "plt.axhline(y = Accuracy(testlabel, testpred), color = 'r', linestyle = '-')\n",
        "plt.title(\"Dependency of validation accuracy on iteartion\")\n",
        "plt.xlabel(\"num iteration\")\n",
        "plt.ylabel(\"Accuracy\")\n",
        "plt.show()"
      ],
      "execution_count": 27,
      "outputs": [
        {
          "output_type": "display_data",
          "data": {
            "text/plain": [
              "<Figure size 432x288 with 1 Axes>"
            ],
            "image/png": "[encoded data removed]"
          },
          "metadata": {
            "needs_background": "light"
          }
        }
      ]
    },
    {
      "cell_type": "markdown",
      "metadata": {
        "id": "oT3bggF3jgeN"
      },
      "source": [
        "So upto a certai iteration, the accuracy seems improving, but then it remains almost constant."
      ]
    },
    {
      "cell_type": "code",
      "metadata": {
        "id": "haaqYk6Sj0OC"
      },
      "source": [
        "iteration = np.arange(1,1000,5)\n",
        "accuracies1 = np.array([AverageAccuracy(alltraindata[:100], alltrainlabel[:100], 75/100, it, classifier=NN) for it in iteration])\n",
        "accuracies2 = np.array([AverageAccuracy(alltraindata[:100], alltrainlabel[:100], 25/100, it, classifier=NN) for it in iteration])\n"
      ],
      "execution_count": 33,
      "outputs": []
    },
    {
      "cell_type": "code",
      "metadata": {
        "colab": {
          "base_uri": "https://localhost:8080/",
          "height": 295
        },
        "id": "dte4-FLJj-77",
        "outputId": "78cb476b-4c9e-4fed-adca-713e2a5d13ce"
      },
      "source": [
        "testpred = NN(alltraindata[:100], alltrainlabel[:100], testdata)\n",
        "plt.plot(iteration, accuracies1)\n",
        "plt.axhline(y = Accuracy(testlabel, testpred), color = 'r', linestyle = '-')\n",
        "plt.title(\"Dependency of validation accuracy on iteartion\")\n",
        "plt.xlabel(\"num iteration\")\n",
        "plt.ylabel(\"Accuracy\")\n",
        "plt.show()"
      ],
      "execution_count": 32,
      "outputs": [
        {
          "output_type": "display_data",
          "data": {
            "text/plain": [
              "<Figure size 432x288 with 1 Axes>"
            ],
            "image/png": "[encoded data removed]"
          },
          "metadata": {
            "needs_background": "light"
          }
        }
      ]
    },
    {
      "cell_type": "markdown",
      "metadata": {
        "id": "6o8Uh-Lg49cT"
      },
      "source": [
        "So we can see that, when data is very less, iterations isnt helping at all to estimate the actual accuracy."
      ]
    }
  ]
}